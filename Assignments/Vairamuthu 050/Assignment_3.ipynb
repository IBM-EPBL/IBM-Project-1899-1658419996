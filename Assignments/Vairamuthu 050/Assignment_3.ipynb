{
  "cells": [
    {
      "cell_type": "markdown",
      "source": [
        "# **Uploading the Data**"
      ],
      "metadata": {
        "id": "T4hbg3MAuUMJ"
      }
    },
    {
      "cell_type": "code",
      "execution_count": 1,
      "metadata": {
        "colab": {
          "base_uri": "https://localhost:8080/"
        },
        "id": "of7aJlDgR5PF",
        "outputId": "491ee1fd-da2a-42ca-da6a-f26a8fd43e27"
      },
      "outputs": [
        {
          "output_type": "stream",
          "name": "stdout",
          "text": [
            "Mounted at /content/drive\n"
          ]
        }
      ],
      "source": [
        "from google.colab import drive\n",
        "drive.mount('/content/drive')"
      ]
    },
    {
      "cell_type": "code",
      "execution_count": 2,
      "metadata": {
        "id": "z1f7fTFfvJrb"
      },
      "outputs": [],
      "source": [
        "import os\n",
        "import shutil"
      ]
    },
    {
      "cell_type": "code",
      "execution_count": 3,
      "metadata": {
        "colab": {
          "base_uri": "https://localhost:8080/"
        },
        "id": "vlDLTL-xu7qP",
        "outputId": "2e184886-836a-4600-a4dd-19842464c4fb"
      },
      "outputs": [
        {
          "output_type": "stream",
          "name": "stdout",
          "text": [
            "Successfully Completed\n"
          ]
        }
      ],
      "source": [
        "def train_validate_split(validation_size=0.2):\n",
        "  all_images = os.listdir('/content/drive/MyDrive/Datasets/Flowers-Dataset/flowers')\n",
        "\n",
        "  # Making directors\n",
        "  os.makedirs('./input')\n",
        "  shutil.rmtree('./input')\n",
        "  for dirs in all_images:\n",
        "    os.makedirs(f'./input/train/{dirs}')\n",
        "    os.makedirs(f'./input/validate/{dirs}')\n",
        "    index_to_split = int(len(os.listdir(f'/content/drive/MyDrive/Datasets/Flowers-Dataset/flowers/{dirs}')) - len(os.listdir(f'/content/drive/MyDrive/Datasets/Flowers-Dataset/flowers/{dirs}')) * validation_size)\n",
        "    train = f'/content/drive/MyDrive/Datasets/Flowers-Dataset/flowers/{dirs}'\n",
        "    train = os.listdir(train)\n",
        "    train = train[:index_to_split]\n",
        "    validate = f'/content/drive/MyDrive/Datasets/Flowers-Dataset/flowers/{dirs}'\n",
        "    validate = os.listdir(validate)\n",
        "    validate = validate[index_to_split:]\n",
        "\n",
        "    for images in train:\n",
        "      shutil.copyfile(f'/content/drive/MyDrive/Datasets/Flowers-Dataset/flowers/{dirs}/{images}', f'/content/input/train/{dirs}/{images}')\n",
        "    for images in validate:\n",
        "      shutil.copyfile(f'/content/drive/MyDrive/Datasets/Flowers-Dataset/flowers/{dirs}/{images}', f'/content/input/validate/{dirs}/{images}')\n",
        "\n",
        "  print('Successfully Completed')\n",
        "\n",
        "train_validate_split(0.20)"
      ]
    },
    {
      "cell_type": "code",
      "execution_count": 4,
      "metadata": {
        "id": "aRULEWpKg-6b"
      },
      "outputs": [],
      "source": [
        "import tensorflow as tf\n",
        "from tensorflow import keras\n",
        "from keras.preprocessing.image import ImageDataGenerator"
      ]
    },
    {
      "cell_type": "markdown",
      "source": [
        "# **Image Augumentation**"
      ],
      "metadata": {
        "id": "S_Zdh730upXm"
      }
    },
    {
      "cell_type": "code",
      "execution_count": 5,
      "metadata": {
        "id": "epKWrswVhLUn"
      },
      "outputs": [],
      "source": [
        "train_idg = ImageDataGenerator(rescale=1/255.0,\n",
        "    rotation_range=20,\n",
        "    width_shift_range=0.2,\n",
        "    height_shift_range=0.2,\n",
        "    horizontal_flip=True)\n",
        "\n",
        "validate_idg = ImageDataGenerator(rescale=1/255.0)"
      ]
    },
    {
      "cell_type": "code",
      "execution_count": 6,
      "metadata": {
        "colab": {
          "base_uri": "https://localhost:8080/"
        },
        "id": "pf4tw-TAiqnN",
        "outputId": "39e149e8-a846-4b8b-9720-8d0a4a0bed53"
      },
      "outputs": [
        {
          "output_type": "stream",
          "name": "stdout",
          "text": [
            "Found 3452 images belonging to 5 classes.\n",
            "Found 865 images belonging to 5 classes.\n"
          ]
        }
      ],
      "source": [
        "train_iter = train_idg.flow_from_directory(\n",
        "    '/content/input/train',\n",
        "    batch_size = 100,\n",
        "    class_mode = 'categorical',\n",
        "    target_size = (64,64)\n",
        ")\n",
        "\n",
        "validate_iter = validate_idg.flow_from_directory(\n",
        "    '/content/input/validate',\n",
        "    batch_size = 50,\n",
        "    class_mode = 'categorical',\n",
        "    target_size = (64,64)\n",
        ")"
      ]
    },
    {
      "cell_type": "markdown",
      "source": [
        "# **Creating a model**\n",
        "**Adding Layers**"
      ],
      "metadata": {
        "id": "8i1jSD2-uyeB"
      }
    },
    {
      "cell_type": "code",
      "execution_count": 7,
      "metadata": {
        "id": "j2R8MlBgjX4C"
      },
      "outputs": [],
      "source": [
        "model = keras.Sequential([\n",
        "    keras.layers.Conv2D(16,(3,3), activation='relu', input_shape=(64,64,3)),\n",
        "    keras.layers.MaxPool2D((2,2)),\n",
        "    keras.layers.Conv2D(32,(3,3), activation='relu'),\n",
        "    keras.layers.MaxPool2D((2,2)),\n",
        "    keras.layers.Conv2D(64,(3,3), activation='relu'),\n",
        "    keras.layers.MaxPool2D((2,2)),\n",
        "    keras.layers.Flatten(),\n",
        "    keras.layers.Dense(512,activation='relu'),\n",
        "    keras.layers.Dense(5, activation='sigmoid')\n",
        "])"
      ]
    },
    {
      "cell_type": "markdown",
      "source": [
        "**Compiling the model**"
      ],
      "metadata": {
        "id": "5VNyG8nPu81r"
      }
    },
    {
      "cell_type": "code",
      "execution_count": 8,
      "metadata": {
        "colab": {
          "base_uri": "https://localhost:8080/"
        },
        "id": "rW4IE5YpkT87",
        "outputId": "1613131c-2653-4792-962b-5990243a6495"
      },
      "outputs": [
        {
          "output_type": "stream",
          "name": "stdout",
          "text": [
            "Model: \"sequential\"\n",
            "_________________________________________________________________\n",
            " Layer (type)                Output Shape              Param #   \n",
            "=================================================================\n",
            " conv2d (Conv2D)             (None, 62, 62, 16)        448       \n",
            "                                                                 \n",
            " max_pooling2d (MaxPooling2D  (None, 31, 31, 16)       0         \n",
            " )                                                               \n",
            "                                                                 \n",
            " conv2d_1 (Conv2D)           (None, 29, 29, 32)        4640      \n",
            "                                                                 \n",
            " max_pooling2d_1 (MaxPooling  (None, 14, 14, 32)       0         \n",
            " 2D)                                                             \n",
            "                                                                 \n",
            " conv2d_2 (Conv2D)           (None, 12, 12, 64)        18496     \n",
            "                                                                 \n",
            " max_pooling2d_2 (MaxPooling  (None, 6, 6, 64)         0         \n",
            " 2D)                                                             \n",
            "                                                                 \n",
            " flatten (Flatten)           (None, 2304)              0         \n",
            "                                                                 \n",
            " dense (Dense)               (None, 512)               1180160   \n",
            "                                                                 \n",
            " dense_1 (Dense)             (None, 5)                 2565      \n",
            "                                                                 \n",
            "=================================================================\n",
            "Total params: 1,206,309\n",
            "Trainable params: 1,206,309\n",
            "Non-trainable params: 0\n",
            "_________________________________________________________________\n"
          ]
        }
      ],
      "source": [
        "model.compile(optimizer='adam', loss='categorical_crossentropy', metrics=['accuracy'])\n",
        "model.summary()"
      ]
    },
    {
      "cell_type": "markdown",
      "source": [
        "**Fitting the model**"
      ],
      "metadata": {
        "id": "BtCvTiqsvEUv"
      }
    },
    {
      "cell_type": "code",
      "execution_count": 9,
      "metadata": {
        "colab": {
          "base_uri": "https://localhost:8080/"
        },
        "id": "3MT-RPzwkgp7",
        "outputId": "a59e996b-1c0f-4065-e4f9-5050dae223e2"
      },
      "outputs": [
        {
          "output_type": "stream",
          "name": "stdout",
          "text": [
            "Epoch 1/25\n",
            "35/35 [==============================] - 22s 393ms/step - loss: 1.5241 - accuracy: 0.3062 - val_loss: 1.2333 - val_accuracy: 0.4705\n",
            "Epoch 2/25\n",
            "35/35 [==============================] - 14s 387ms/step - loss: 1.2164 - accuracy: 0.4823 - val_loss: 1.1470 - val_accuracy: 0.4948\n",
            "Epoch 3/25\n",
            "35/35 [==============================] - 14s 397ms/step - loss: 1.1322 - accuracy: 0.5264 - val_loss: 1.1046 - val_accuracy: 0.5087\n",
            "Epoch 4/25\n",
            "35/35 [==============================] - 13s 387ms/step - loss: 1.0858 - accuracy: 0.5675 - val_loss: 1.0165 - val_accuracy: 0.6092\n",
            "Epoch 5/25\n",
            "35/35 [==============================] - 14s 395ms/step - loss: 1.0418 - accuracy: 0.5863 - val_loss: 0.9644 - val_accuracy: 0.6266\n",
            "Epoch 6/25\n",
            "35/35 [==============================] - 13s 384ms/step - loss: 0.9917 - accuracy: 0.6101 - val_loss: 1.0231 - val_accuracy: 0.6035\n",
            "Epoch 7/25\n",
            "35/35 [==============================] - 13s 383ms/step - loss: 0.9664 - accuracy: 0.6243 - val_loss: 0.9456 - val_accuracy: 0.6254\n",
            "Epoch 8/25\n",
            "35/35 [==============================] - 13s 384ms/step - loss: 0.9583 - accuracy: 0.6170 - val_loss: 0.8768 - val_accuracy: 0.6624\n",
            "Epoch 9/25\n",
            "35/35 [==============================] - 13s 380ms/step - loss: 0.9078 - accuracy: 0.6376 - val_loss: 0.8520 - val_accuracy: 0.6775\n",
            "Epoch 10/25\n",
            "35/35 [==============================] - 13s 384ms/step - loss: 0.8754 - accuracy: 0.6587 - val_loss: 0.8802 - val_accuracy: 0.6543\n",
            "Epoch 11/25\n",
            "35/35 [==============================] - 13s 381ms/step - loss: 0.8552 - accuracy: 0.6611 - val_loss: 0.9182 - val_accuracy: 0.6566\n",
            "Epoch 12/25\n",
            "35/35 [==============================] - 13s 377ms/step - loss: 0.8331 - accuracy: 0.6816 - val_loss: 0.8878 - val_accuracy: 0.6462\n",
            "Epoch 13/25\n",
            "35/35 [==============================] - 13s 379ms/step - loss: 0.8254 - accuracy: 0.6808 - val_loss: 0.8681 - val_accuracy: 0.6705\n",
            "Epoch 14/25\n",
            "35/35 [==============================] - 13s 383ms/step - loss: 0.8097 - accuracy: 0.6883 - val_loss: 0.8121 - val_accuracy: 0.6740\n",
            "Epoch 15/25\n",
            "35/35 [==============================] - 13s 380ms/step - loss: 0.7813 - accuracy: 0.7025 - val_loss: 0.8465 - val_accuracy: 0.6647\n",
            "Epoch 16/25\n",
            "35/35 [==============================] - 13s 378ms/step - loss: 0.7831 - accuracy: 0.6944 - val_loss: 0.8360 - val_accuracy: 0.6925\n",
            "Epoch 17/25\n",
            "35/35 [==============================] - 13s 380ms/step - loss: 0.7539 - accuracy: 0.7121 - val_loss: 0.8419 - val_accuracy: 0.6821\n",
            "Epoch 18/25\n",
            "35/35 [==============================] - 13s 381ms/step - loss: 0.7695 - accuracy: 0.7065 - val_loss: 0.8191 - val_accuracy: 0.6925\n",
            "Epoch 19/25\n",
            "35/35 [==============================] - 13s 381ms/step - loss: 0.7270 - accuracy: 0.7219 - val_loss: 0.7855 - val_accuracy: 0.7040\n",
            "Epoch 20/25\n",
            "35/35 [==============================] - 13s 387ms/step - loss: 0.7400 - accuracy: 0.7147 - val_loss: 0.7653 - val_accuracy: 0.6913\n",
            "Epoch 21/25\n",
            "35/35 [==============================] - 13s 386ms/step - loss: 0.7424 - accuracy: 0.7207 - val_loss: 0.8001 - val_accuracy: 0.6925\n",
            "Epoch 22/25\n",
            "35/35 [==============================] - 13s 382ms/step - loss: 0.7000 - accuracy: 0.7254 - val_loss: 0.8782 - val_accuracy: 0.6821\n",
            "Epoch 23/25\n",
            "35/35 [==============================] - 13s 381ms/step - loss: 0.6937 - accuracy: 0.7323 - val_loss: 0.7473 - val_accuracy: 0.7410\n",
            "Epoch 24/25\n",
            "35/35 [==============================] - 13s 385ms/step - loss: 0.6731 - accuracy: 0.7402 - val_loss: 0.7380 - val_accuracy: 0.7295\n",
            "Epoch 25/25\n",
            "35/35 [==============================] - 13s 382ms/step - loss: 0.6810 - accuracy: 0.7413 - val_loss: 0.7684 - val_accuracy: 0.7087\n"
          ]
        }
      ],
      "source": [
        "classifier = model.fit(train_iter,\n",
        "                       steps_per_epoch=len(train_iter),\n",
        "                       epochs=25,\n",
        "                       validation_data=validate_iter,\n",
        "                       validation_steps=len(validate_iter))"
      ]
    },
    {
      "cell_type": "markdown",
      "source": [
        "**Saving the model**"
      ],
      "metadata": {
        "id": "W5tY6tWuvJve"
      }
    },
    {
      "cell_type": "code",
      "execution_count": 10,
      "metadata": {
        "id": "QhjO5ZfykwHE"
      },
      "outputs": [],
      "source": [
        "model_save = model.save('model.h5')"
      ]
    },
    {
      "cell_type": "markdown",
      "source": [
        "# **Testing the model**"
      ],
      "metadata": {
        "id": "CxdRXeZRvOPW"
      }
    },
    {
      "cell_type": "code",
      "execution_count": 11,
      "metadata": {
        "id": "Rx0QXvPW2iVR",
        "colab": {
          "base_uri": "https://localhost:8080/"
        },
        "outputId": "f8fc7fde-f2b0-4218-e4b0-5bf03284c5fc"
      },
      "outputs": [
        {
          "output_type": "execute_result",
          "data": {
            "text/plain": [
              "{'daisy': 0, 'dandelion': 1, 'rose': 2, 'sunflower': 3, 'tulip': 4}"
            ]
          },
          "metadata": {},
          "execution_count": 11
        }
      ],
      "source": [
        "classes = train_iter.class_indices\n",
        "classes"
      ]
    },
    {
      "cell_type": "code",
      "execution_count": 12,
      "metadata": {
        "id": "xpnEx4ay2ron"
      },
      "outputs": [],
      "source": [
        "import numpy as np\n",
        "from tensorflow.keras.preprocessing import image"
      ]
    },
    {
      "cell_type": "code",
      "execution_count": 13,
      "metadata": {
        "id": "FOTW_kjDoW5E"
      },
      "outputs": [],
      "source": [
        "test_img = image.load_img('/content/drive/MyDrive/Datasets/Flowers-Dataset/test_image.jpg',target_size= (64,64))"
      ]
    },
    {
      "cell_type": "code",
      "execution_count": 14,
      "metadata": {
        "colab": {
          "base_uri": "https://localhost:8080/",
          "height": 81
        },
        "id": "5M9eEJOXoWvx",
        "outputId": "d6a1fa4d-331b-4099-91ad-06225e559342"
      },
      "outputs": [
        {
          "output_type": "execute_result",
          "data": {
            "text/plain": [
              "<PIL.Image.Image image mode=RGB size=64x64 at 0x7F9CCA20C650>"
            ],
            "image/png": "[encoded data removed]"
          },
          "metadata": {},
          "execution_count": 14
        }
      ],
      "source": [
        "test_img"
      ]
    },
    {
      "cell_type": "code",
      "execution_count": 15,
      "metadata": {
        "id": "TKf4cywWoWr6"
      },
      "outputs": [],
      "source": [
        "x = image.img_to_array(test_img)\n",
        "x = np.expand_dims(x, axis=0)\n",
        "x = x/255.0"
      ]
    },
    {
      "cell_type": "code",
      "execution_count": 16,
      "metadata": {
        "colab": {
          "base_uri": "https://localhost:8080/"
        },
        "id": "PmjVfkwjoWmG",
        "outputId": "7686313a-6ed9-4496-8ddd-eb42559b965a"
      },
      "outputs": [
        {
          "output_type": "execute_result",
          "data": {
            "text/plain": [
              "array([[9.4454396e-01, 1.0688652e-03, 9.9846894e-01, 8.7499409e-04,\n",
              "        9.9825650e-01]], dtype=float32)"
            ]
          },
          "metadata": {},
          "execution_count": 16
        }
      ],
      "source": [
        "model.predict(x)"
      ]
    },
    {
      "cell_type": "code",
      "execution_count": 17,
      "metadata": {
        "id": "ITGM9zf5oWkF",
        "colab": {
          "base_uri": "https://localhost:8080/",
          "height": 35
        },
        "outputId": "e4157923-939c-404e-c2dc-a9f98eac9649"
      },
      "outputs": [
        {
          "output_type": "execute_result",
          "data": {
            "text/plain": [
              "'rose'"
            ],
            "application/vnd.google.colaboratory.intrinsic+json": {
              "type": "string"
            }
          },
          "metadata": {},
          "execution_count": 17
        }
      ],
      "source": [
        "pred = np.argmax(model.predict(x))\n",
        "list(classes.items())[pred][0]"
      ]
    }
  ],
  "metadata": {
    "accelerator": "GPU",
    "colab": {
      "provenance": []
    },
    "kernelspec": {
      "display_name": "Python 3",
      "name": "python3"
    },
    "language_info": {
      "name": "python"
    }
  },
  "nbformat": 4,
  "nbformat_minor": 0
}